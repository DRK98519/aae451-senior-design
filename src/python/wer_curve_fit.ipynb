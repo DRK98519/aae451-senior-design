{
 "cells": [
  {
   "cell_type": "markdown",
   "metadata": {},
   "source": [
    "# WER Curve Fit\n",
    "This is a function that fits the given data for aircrafts with similar designs to a WER equation\n",
    "The fit equation is in the form of \n",
    "\\begin{gather*}\n",
    "    \\frac{W_e}{W_o} = a + b (W_o)^c (AR)^d  (T_{sl}/W_o)^e  (W_o/S)^f  (V_{max})^g\n",
    "\\end{gather*}\n"
   ]
  },
  {
   "cell_type": "code",
   "execution_count": 1,
   "metadata": {},
   "outputs": [],
   "source": [
    "import numpy as np\n",
    "import matplotlib.pyplot as plt\n",
    "from scipy.optimize import curve_fit\n",
    "import pandas as pd"
   ]
  },
  {
   "cell_type": "code",
   "execution_count": 2,
   "metadata": {},
   "outputs": [],
   "source": [
    "# Function to fit the data \n",
    "def func(x, a, b, c, d, e, f, g):\n",
    "    return a + b*x[0]**c * x[1]**d * x[2]**e * x[3]**f * x[4]**g"
   ]
  },
  {
   "cell_type": "code",
   "execution_count": 32,
   "metadata": {},
   "outputs": [],
   "source": [
    "# Import the data with pandas\n",
    "df = pd.read_csv('initial_wer_data_v3.csv')"
   ]
  },
  {
   "cell_type": "code",
   "execution_count": 33,
   "metadata": {},
   "outputs": [
    {
     "data": {
      "text/html": [
       "<div>\n",
       "<style scoped>\n",
       "    .dataframe tbody tr th:only-of-type {\n",
       "        vertical-align: middle;\n",
       "    }\n",
       "\n",
       "    .dataframe tbody tr th {\n",
       "        vertical-align: top;\n",
       "    }\n",
       "\n",
       "    .dataframe thead th {\n",
       "        text-align: right;\n",
       "    }\n",
       "</style>\n",
       "<table border=\"1\" class=\"dataframe\">\n",
       "  <thead>\n",
       "    <tr style=\"text-align: right;\">\n",
       "      <th></th>\n",
       "      <th>Aircraft</th>\n",
       "      <th>We (kg</th>\n",
       "      <th>W0 (kg)</th>\n",
       "      <th>We/W0</th>\n",
       "      <th>AR</th>\n",
       "      <th>TWR</th>\n",
       "      <th>S (m^2)</th>\n",
       "      <th>W0/S (N/m^2)</th>\n",
       "      <th>Vmax (knots)</th>\n",
       "      <th>Vmax(m/s)</th>\n",
       "    </tr>\n",
       "  </thead>\n",
       "  <tbody>\n",
       "    <tr>\n",
       "      <th>0</th>\n",
       "      <td>Embraer Phenom 100</td>\n",
       "      <td>3275.0</td>\n",
       "      <td>4800.0</td>\n",
       "      <td>0.68</td>\n",
       "      <td>8.05</td>\n",
       "      <td>0.33</td>\n",
       "      <td>18.77</td>\n",
       "      <td>255.78</td>\n",
       "      <td>400.0</td>\n",
       "      <td>205.78</td>\n",
       "    </tr>\n",
       "    <tr>\n",
       "      <th>1</th>\n",
       "      <td>AgustaWestland AW609</td>\n",
       "      <td>4765.0</td>\n",
       "      <td>7620.0</td>\n",
       "      <td>0.63</td>\n",
       "      <td>2.79</td>\n",
       "      <td>0.38</td>\n",
       "      <td>49.00</td>\n",
       "      <td>155.51</td>\n",
       "      <td>275.0</td>\n",
       "      <td>141.47</td>\n",
       "    </tr>\n",
       "    <tr>\n",
       "      <th>2</th>\n",
       "      <td>HondaJet HA420</td>\n",
       "      <td>3267.0</td>\n",
       "      <td>4854.0</td>\n",
       "      <td>0.67</td>\n",
       "      <td>8.50</td>\n",
       "      <td>0.38</td>\n",
       "      <td>17.28</td>\n",
       "      <td>280.88</td>\n",
       "      <td>422.0</td>\n",
       "      <td>217.10</td>\n",
       "    </tr>\n",
       "    <tr>\n",
       "      <th>3</th>\n",
       "      <td>Sino Swearingen SJ30</td>\n",
       "      <td>4045.0</td>\n",
       "      <td>6328.0</td>\n",
       "      <td>0.64</td>\n",
       "      <td>9.43</td>\n",
       "      <td>0.32</td>\n",
       "      <td>17.65</td>\n",
       "      <td>358.49</td>\n",
       "      <td>486.0</td>\n",
       "      <td>250.02</td>\n",
       "    </tr>\n",
       "    <tr>\n",
       "      <th>4</th>\n",
       "      <td>Hawker 400XPR</td>\n",
       "      <td>4763.0</td>\n",
       "      <td>7394.0</td>\n",
       "      <td>0.64</td>\n",
       "      <td>7.96</td>\n",
       "      <td>0.39</td>\n",
       "      <td>22.43</td>\n",
       "      <td>329.65</td>\n",
       "      <td>468.0</td>\n",
       "      <td>240.76</td>\n",
       "    </tr>\n",
       "    <tr>\n",
       "      <th>5</th>\n",
       "      <td>Spectrum S-40 Freedom</td>\n",
       "      <td>3107.0</td>\n",
       "      <td>4336.0</td>\n",
       "      <td>0.72</td>\n",
       "      <td>9.61</td>\n",
       "      <td>0.35</td>\n",
       "      <td>20.10</td>\n",
       "      <td>215.72</td>\n",
       "      <td>440.0</td>\n",
       "      <td>226.36</td>\n",
       "    </tr>\n",
       "    <tr>\n",
       "      <th>6</th>\n",
       "      <td>Pegasus VBJ</td>\n",
       "      <td>3040.0</td>\n",
       "      <td>5700.0</td>\n",
       "      <td>0.53</td>\n",
       "      <td>4.43</td>\n",
       "      <td>0.60</td>\n",
       "      <td>46.70</td>\n",
       "      <td>122.06</td>\n",
       "      <td>410.0</td>\n",
       "      <td>210.92</td>\n",
       "    </tr>\n",
       "  </tbody>\n",
       "</table>\n",
       "</div>"
      ],
      "text/plain": [
       "                Aircraft  We (kg  W0 (kg)  We/W0    AR   TWR  S (m^2)  \\\n",
       "0     Embraer Phenom 100  3275.0   4800.0   0.68  8.05  0.33    18.77   \n",
       "1   AgustaWestland AW609  4765.0   7620.0   0.63  2.79  0.38    49.00   \n",
       "2         HondaJet HA420  3267.0   4854.0   0.67  8.50  0.38    17.28   \n",
       "3   Sino Swearingen SJ30  4045.0   6328.0   0.64  9.43  0.32    17.65   \n",
       "4          Hawker 400XPR  4763.0   7394.0   0.64  7.96  0.39    22.43   \n",
       "5  Spectrum S-40 Freedom  3107.0   4336.0   0.72  9.61  0.35    20.10   \n",
       "6            Pegasus VBJ  3040.0   5700.0   0.53  4.43  0.60    46.70   \n",
       "\n",
       "   W0/S (N/m^2)  Vmax (knots)  Vmax(m/s)   \n",
       "0        255.78         400.0      205.78  \n",
       "1        155.51         275.0      141.47  \n",
       "2        280.88         422.0      217.10  \n",
       "3        358.49         486.0      250.02  \n",
       "4        329.65         468.0      240.76  \n",
       "5        215.72         440.0      226.36  \n",
       "6        122.06         410.0      210.92  "
      ]
     },
     "execution_count": 33,
     "metadata": {},
     "output_type": "execute_result"
    }
   ],
   "source": [
    "df"
   ]
  },
  {
   "cell_type": "code",
   "execution_count": 34,
   "metadata": {},
   "outputs": [
    {
     "data": {
      "text/html": [
       "<div>\n",
       "<style scoped>\n",
       "    .dataframe tbody tr th:only-of-type {\n",
       "        vertical-align: middle;\n",
       "    }\n",
       "\n",
       "    .dataframe tbody tr th {\n",
       "        vertical-align: top;\n",
       "    }\n",
       "\n",
       "    .dataframe thead th {\n",
       "        text-align: right;\n",
       "    }\n",
       "</style>\n",
       "<table border=\"1\" class=\"dataframe\">\n",
       "  <thead>\n",
       "    <tr style=\"text-align: right;\">\n",
       "      <th></th>\n",
       "      <th>W0 (kg)</th>\n",
       "      <th>AR</th>\n",
       "      <th>TWR</th>\n",
       "      <th>W0/S (N/m^2)</th>\n",
       "      <th>Vmax(m/s)</th>\n",
       "    </tr>\n",
       "  </thead>\n",
       "  <tbody>\n",
       "    <tr>\n",
       "      <th>0</th>\n",
       "      <td>4800.0</td>\n",
       "      <td>8.05</td>\n",
       "      <td>0.33</td>\n",
       "      <td>255.78</td>\n",
       "      <td>205.78</td>\n",
       "    </tr>\n",
       "    <tr>\n",
       "      <th>1</th>\n",
       "      <td>7620.0</td>\n",
       "      <td>2.79</td>\n",
       "      <td>0.38</td>\n",
       "      <td>155.51</td>\n",
       "      <td>141.47</td>\n",
       "    </tr>\n",
       "    <tr>\n",
       "      <th>2</th>\n",
       "      <td>4854.0</td>\n",
       "      <td>8.50</td>\n",
       "      <td>0.38</td>\n",
       "      <td>280.88</td>\n",
       "      <td>217.10</td>\n",
       "    </tr>\n",
       "    <tr>\n",
       "      <th>3</th>\n",
       "      <td>6328.0</td>\n",
       "      <td>9.43</td>\n",
       "      <td>0.32</td>\n",
       "      <td>358.49</td>\n",
       "      <td>250.02</td>\n",
       "    </tr>\n",
       "    <tr>\n",
       "      <th>4</th>\n",
       "      <td>7394.0</td>\n",
       "      <td>7.96</td>\n",
       "      <td>0.39</td>\n",
       "      <td>329.65</td>\n",
       "      <td>240.76</td>\n",
       "    </tr>\n",
       "    <tr>\n",
       "      <th>5</th>\n",
       "      <td>4336.0</td>\n",
       "      <td>9.61</td>\n",
       "      <td>0.35</td>\n",
       "      <td>215.72</td>\n",
       "      <td>226.36</td>\n",
       "    </tr>\n",
       "    <tr>\n",
       "      <th>6</th>\n",
       "      <td>5700.0</td>\n",
       "      <td>4.43</td>\n",
       "      <td>0.60</td>\n",
       "      <td>122.06</td>\n",
       "      <td>210.92</td>\n",
       "    </tr>\n",
       "  </tbody>\n",
       "</table>\n",
       "</div>"
      ],
      "text/plain": [
       "   W0 (kg)    AR   TWR  W0/S (N/m^2)  Vmax(m/s) \n",
       "0   4800.0  8.05  0.33        255.78      205.78\n",
       "1   7620.0  2.79  0.38        155.51      141.47\n",
       "2   4854.0  8.50  0.38        280.88      217.10\n",
       "3   6328.0  9.43  0.32        358.49      250.02\n",
       "4   7394.0  7.96  0.39        329.65      240.76\n",
       "5   4336.0  9.61  0.35        215.72      226.36\n",
       "6   5700.0  4.43  0.60        122.06      210.92"
      ]
     },
     "execution_count": 34,
     "metadata": {},
     "output_type": "execute_result"
    }
   ],
   "source": [
    "xdata = df.iloc[:,[2,4,5,7,9]]\n",
    "xdata"
   ]
  },
  {
   "cell_type": "code",
   "execution_count": 35,
   "metadata": {},
   "outputs": [
    {
     "data": {
      "text/plain": [
       "0    0.68\n",
       "1    0.63\n",
       "2    0.67\n",
       "3    0.64\n",
       "4    0.64\n",
       "5    0.72\n",
       "6    0.53\n",
       "Name: We/W0, dtype: float64"
      ]
     },
     "execution_count": 35,
     "metadata": {},
     "output_type": "execute_result"
    }
   ],
   "source": [
    "ydata = df.iloc[:,3]\n",
    "ydata"
   ]
  },
  {
   "cell_type": "code",
   "execution_count": 36,
   "metadata": {},
   "outputs": [],
   "source": [
    "xdata = np.array(xdata).transpose()\n",
    "ydata = np.array(ydata)"
   ]
  },
  {
   "cell_type": "code",
   "execution_count": 37,
   "metadata": {},
   "outputs": [
    {
     "name": "stderr",
     "output_type": "stream",
     "text": [
      "C:\\Users\\Tomo\\anaconda3\\lib\\site-packages\\scipy\\optimize\\minpack.py:828: OptimizeWarning: Covariance of the parameters could not be estimated\n",
      "  warnings.warn('Covariance of the parameters could not be estimated',\n"
     ]
    }
   ],
   "source": [
    "popt, pcov = curve_fit(func, xdata, ydata, bounds=((-3, 3)))"
   ]
  },
  {
   "cell_type": "code",
   "execution_count": 38,
   "metadata": {},
   "outputs": [
    {
     "data": {
      "text/plain": [
       "array([-0.49109324,  2.99999998,  0.28234368,  0.47475339, -0.04233889,\n",
       "       -0.18632609, -0.6257303 ])"
      ]
     },
     "execution_count": 38,
     "metadata": {},
     "output_type": "execute_result"
    }
   ],
   "source": [
    "# The coefficients a, b, c, d, e, f, and g are \n",
    "popt"
   ]
  },
  {
   "cell_type": "code",
   "execution_count": 39,
   "metadata": {},
   "outputs": [
    {
     "data": {
      "text/plain": [
       "array([[inf, inf, inf, inf, inf, inf, inf],\n",
       "       [inf, inf, inf, inf, inf, inf, inf],\n",
       "       [inf, inf, inf, inf, inf, inf, inf],\n",
       "       [inf, inf, inf, inf, inf, inf, inf],\n",
       "       [inf, inf, inf, inf, inf, inf, inf],\n",
       "       [inf, inf, inf, inf, inf, inf, inf],\n",
       "       [inf, inf, inf, inf, inf, inf, inf]])"
      ]
     },
     "execution_count": 39,
     "metadata": {},
     "output_type": "execute_result"
    }
   ],
   "source": [
    "# The covariance was\n",
    "pcov"
   ]
  },
  {
   "cell_type": "code",
   "execution_count": null,
   "metadata": {},
   "outputs": [],
   "source": []
  }
 ],
 "metadata": {
  "kernelspec": {
   "display_name": "Python 3",
   "language": "python",
   "name": "python3"
  },
  "language_info": {
   "codemirror_mode": {
    "name": "ipython",
    "version": 3
   },
   "file_extension": ".py",
   "mimetype": "text/x-python",
   "name": "python",
   "nbconvert_exporter": "python",
   "pygments_lexer": "ipython3",
   "version": "3.8.5"
  }
 },
 "nbformat": 4,
 "nbformat_minor": 4
}
