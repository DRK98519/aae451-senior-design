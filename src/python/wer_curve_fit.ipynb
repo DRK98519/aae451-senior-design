{
 "cells": [
  {
   "cell_type": "markdown",
   "metadata": {},
   "source": [
    "# WER Curve Fit\n",
    "This is a function that fits the given data for aircrafts with similar designs to a WER equation\n",
    "The fit equation is in the form of \n",
    "\\begin{gather*}\n",
    "    \\frac{W_e}{W_o} = a + b (W_o)^c (AR)^d  (T_{sl}/W_o)^e  (W_o/S)^f  (V_{max})^g\n",
    "\\end{gather*}\n"
   ]
  },
  {
   "cell_type": "code",
   "execution_count": 35,
   "metadata": {},
   "outputs": [],
   "source": [
    "import numpy as np\n",
    "import matplotlib.pyplot as plt\n",
    "from scipy.optimize import curve_fit\n",
    "import pandas as pd"
   ]
  },
  {
   "cell_type": "code",
   "execution_count": 36,
   "metadata": {},
   "outputs": [],
   "source": [
    "# Function to fit the data \n",
    "def func(x, a, b, c, d, e, f, g):\n",
    "    return a + b*x[0]**c * x[1]**d * x[2]**e * x[3]**f * x[4]**g"
   ]
  },
  {
   "cell_type": "code",
   "execution_count": 37,
   "metadata": {},
   "outputs": [],
   "source": [
    "# Import the data with pandas\n",
    "df = pd.read_csv('initial_wer_data.csv')"
   ]
  },
  {
   "cell_type": "code",
   "execution_count": 38,
   "metadata": {},
   "outputs": [
    {
     "data": {
      "text/html": [
       "<div>\n",
       "<style scoped>\n",
       "    .dataframe tbody tr th:only-of-type {\n",
       "        vertical-align: middle;\n",
       "    }\n",
       "\n",
       "    .dataframe tbody tr th {\n",
       "        vertical-align: top;\n",
       "    }\n",
       "\n",
       "    .dataframe thead th {\n",
       "        text-align: right;\n",
       "    }\n",
       "</style>\n",
       "<table border=\"1\" class=\"dataframe\">\n",
       "  <thead>\n",
       "    <tr style=\"text-align: right;\">\n",
       "      <th></th>\n",
       "      <th>Aircraft</th>\n",
       "      <th>We (kg</th>\n",
       "      <th>W0 (kg)</th>\n",
       "      <th>We/W0</th>\n",
       "      <th>AR</th>\n",
       "      <th>TWR</th>\n",
       "      <th>S (m^2)</th>\n",
       "      <th>W0/S (N/m^2)</th>\n",
       "      <th>Vmax (knots)</th>\n",
       "      <th>Vmax(m/s)</th>\n",
       "    </tr>\n",
       "  </thead>\n",
       "  <tbody>\n",
       "    <tr>\n",
       "      <th>0</th>\n",
       "      <td>Embraer Phenom 100</td>\n",
       "      <td>3275</td>\n",
       "      <td>4800</td>\n",
       "      <td>0.682292</td>\n",
       "      <td>8.053361</td>\n",
       "      <td>0.327047</td>\n",
       "      <td>18.766400</td>\n",
       "      <td>2509.165317</td>\n",
       "      <td>400</td>\n",
       "      <td>205.777600</td>\n",
       "    </tr>\n",
       "    <tr>\n",
       "      <th>1</th>\n",
       "      <td>AgustaWestland AW609</td>\n",
       "      <td>4765</td>\n",
       "      <td>7620</td>\n",
       "      <td>0.625328</td>\n",
       "      <td>2.793673</td>\n",
       "      <td>0.379790</td>\n",
       "      <td>49.000000</td>\n",
       "      <td>1525.555102</td>\n",
       "      <td>275</td>\n",
       "      <td>141.472100</td>\n",
       "    </tr>\n",
       "    <tr>\n",
       "      <th>2</th>\n",
       "      <td>HondaJet HA420</td>\n",
       "      <td>3267</td>\n",
       "      <td>4854</td>\n",
       "      <td>0.673053</td>\n",
       "      <td>8.500000</td>\n",
       "      <td>0.382210</td>\n",
       "      <td>17.281694</td>\n",
       "      <td>2755.386114</td>\n",
       "      <td>422</td>\n",
       "      <td>217.095368</td>\n",
       "    </tr>\n",
       "    <tr>\n",
       "      <th>3</th>\n",
       "      <td>Cessna M2 CJ1</td>\n",
       "      <td>3171</td>\n",
       "      <td>4853</td>\n",
       "      <td>0.653410</td>\n",
       "      <td>9.298655</td>\n",
       "      <td>0.367166</td>\n",
       "      <td>22.300000</td>\n",
       "      <td>2134.884753</td>\n",
       "      <td>404</td>\n",
       "      <td>207.835376</td>\n",
       "    </tr>\n",
       "    <tr>\n",
       "      <th>4</th>\n",
       "      <td>Pilatus PC-24</td>\n",
       "      <td>4965</td>\n",
       "      <td>8300</td>\n",
       "      <td>0.598193</td>\n",
       "      <td>9.350000</td>\n",
       "      <td>0.390000</td>\n",
       "      <td>30.910000</td>\n",
       "      <td>2634.196053</td>\n",
       "      <td>440</td>\n",
       "      <td>226.355360</td>\n",
       "    </tr>\n",
       "    <tr>\n",
       "      <th>5</th>\n",
       "      <td>Sino Swearingen SJ30</td>\n",
       "      <td>4045</td>\n",
       "      <td>6328</td>\n",
       "      <td>0.639223</td>\n",
       "      <td>9.427474</td>\n",
       "      <td>0.322177</td>\n",
       "      <td>17.651600</td>\n",
       "      <td>3516.830202</td>\n",
       "      <td>486</td>\n",
       "      <td>250.019784</td>\n",
       "    </tr>\n",
       "    <tr>\n",
       "      <th>6</th>\n",
       "      <td>Hawker 400XPR</td>\n",
       "      <td>4763</td>\n",
       "      <td>7394</td>\n",
       "      <td>0.644171</td>\n",
       "      <td>7.957628</td>\n",
       "      <td>0.392638</td>\n",
       "      <td>22.430000</td>\n",
       "      <td>3233.844851</td>\n",
       "      <td>468</td>\n",
       "      <td>240.759792</td>\n",
       "    </tr>\n",
       "    <tr>\n",
       "      <th>7</th>\n",
       "      <td>Spectrum S-40 Freedom</td>\n",
       "      <td>3107</td>\n",
       "      <td>4336</td>\n",
       "      <td>0.716559</td>\n",
       "      <td>9.612438</td>\n",
       "      <td>0.350290</td>\n",
       "      <td>20.100000</td>\n",
       "      <td>2116.226866</td>\n",
       "      <td>440</td>\n",
       "      <td>226.355360</td>\n",
       "    </tr>\n",
       "    <tr>\n",
       "      <th>8</th>\n",
       "      <td>Pegasus VBJ</td>\n",
       "      <td>3040</td>\n",
       "      <td>5700</td>\n",
       "      <td>0.533333</td>\n",
       "      <td>4.427931</td>\n",
       "      <td>0.601793</td>\n",
       "      <td>46.700000</td>\n",
       "      <td>1197.366167</td>\n",
       "      <td>410</td>\n",
       "      <td>210.922040</td>\n",
       "    </tr>\n",
       "  </tbody>\n",
       "</table>\n",
       "</div>"
      ],
      "text/plain": [
       "                Aircraft  We (kg  W0 (kg)     We/W0        AR       TWR  \\\n",
       "0     Embraer Phenom 100    3275     4800  0.682292  8.053361  0.327047   \n",
       "1   AgustaWestland AW609    4765     7620  0.625328  2.793673  0.379790   \n",
       "2         HondaJet HA420    3267     4854  0.673053  8.500000  0.382210   \n",
       "3          Cessna M2 CJ1    3171     4853  0.653410  9.298655  0.367166   \n",
       "4          Pilatus PC-24    4965     8300  0.598193  9.350000  0.390000   \n",
       "5   Sino Swearingen SJ30    4045     6328  0.639223  9.427474  0.322177   \n",
       "6          Hawker 400XPR    4763     7394  0.644171  7.957628  0.392638   \n",
       "7  Spectrum S-40 Freedom    3107     4336  0.716559  9.612438  0.350290   \n",
       "8            Pegasus VBJ    3040     5700  0.533333  4.427931  0.601793   \n",
       "\n",
       "     S (m^2)  W0/S (N/m^2)  Vmax (knots)  Vmax(m/s)   \n",
       "0  18.766400   2509.165317           400  205.777600  \n",
       "1  49.000000   1525.555102           275  141.472100  \n",
       "2  17.281694   2755.386114           422  217.095368  \n",
       "3  22.300000   2134.884753           404  207.835376  \n",
       "4  30.910000   2634.196053           440  226.355360  \n",
       "5  17.651600   3516.830202           486  250.019784  \n",
       "6  22.430000   3233.844851           468  240.759792  \n",
       "7  20.100000   2116.226866           440  226.355360  \n",
       "8  46.700000   1197.366167           410  210.922040  "
      ]
     },
     "execution_count": 38,
     "metadata": {},
     "output_type": "execute_result"
    }
   ],
   "source": [
    "df"
   ]
  },
  {
   "cell_type": "code",
   "execution_count": 39,
   "metadata": {},
   "outputs": [
    {
     "data": {
      "text/html": [
       "<div>\n",
       "<style scoped>\n",
       "    .dataframe tbody tr th:only-of-type {\n",
       "        vertical-align: middle;\n",
       "    }\n",
       "\n",
       "    .dataframe tbody tr th {\n",
       "        vertical-align: top;\n",
       "    }\n",
       "\n",
       "    .dataframe thead th {\n",
       "        text-align: right;\n",
       "    }\n",
       "</style>\n",
       "<table border=\"1\" class=\"dataframe\">\n",
       "  <thead>\n",
       "    <tr style=\"text-align: right;\">\n",
       "      <th></th>\n",
       "      <th>W0 (kg)</th>\n",
       "      <th>AR</th>\n",
       "      <th>TWR</th>\n",
       "      <th>W0/S (N/m^2)</th>\n",
       "      <th>Vmax(m/s)</th>\n",
       "    </tr>\n",
       "  </thead>\n",
       "  <tbody>\n",
       "    <tr>\n",
       "      <th>0</th>\n",
       "      <td>4800</td>\n",
       "      <td>8.053361</td>\n",
       "      <td>0.327047</td>\n",
       "      <td>2509.165317</td>\n",
       "      <td>205.777600</td>\n",
       "    </tr>\n",
       "    <tr>\n",
       "      <th>1</th>\n",
       "      <td>7620</td>\n",
       "      <td>2.793673</td>\n",
       "      <td>0.379790</td>\n",
       "      <td>1525.555102</td>\n",
       "      <td>141.472100</td>\n",
       "    </tr>\n",
       "    <tr>\n",
       "      <th>2</th>\n",
       "      <td>4854</td>\n",
       "      <td>8.500000</td>\n",
       "      <td>0.382210</td>\n",
       "      <td>2755.386114</td>\n",
       "      <td>217.095368</td>\n",
       "    </tr>\n",
       "    <tr>\n",
       "      <th>3</th>\n",
       "      <td>4853</td>\n",
       "      <td>9.298655</td>\n",
       "      <td>0.367166</td>\n",
       "      <td>2134.884753</td>\n",
       "      <td>207.835376</td>\n",
       "    </tr>\n",
       "    <tr>\n",
       "      <th>4</th>\n",
       "      <td>8300</td>\n",
       "      <td>9.350000</td>\n",
       "      <td>0.390000</td>\n",
       "      <td>2634.196053</td>\n",
       "      <td>226.355360</td>\n",
       "    </tr>\n",
       "    <tr>\n",
       "      <th>5</th>\n",
       "      <td>6328</td>\n",
       "      <td>9.427474</td>\n",
       "      <td>0.322177</td>\n",
       "      <td>3516.830202</td>\n",
       "      <td>250.019784</td>\n",
       "    </tr>\n",
       "    <tr>\n",
       "      <th>6</th>\n",
       "      <td>7394</td>\n",
       "      <td>7.957628</td>\n",
       "      <td>0.392638</td>\n",
       "      <td>3233.844851</td>\n",
       "      <td>240.759792</td>\n",
       "    </tr>\n",
       "    <tr>\n",
       "      <th>7</th>\n",
       "      <td>4336</td>\n",
       "      <td>9.612438</td>\n",
       "      <td>0.350290</td>\n",
       "      <td>2116.226866</td>\n",
       "      <td>226.355360</td>\n",
       "    </tr>\n",
       "    <tr>\n",
       "      <th>8</th>\n",
       "      <td>5700</td>\n",
       "      <td>4.427931</td>\n",
       "      <td>0.601793</td>\n",
       "      <td>1197.366167</td>\n",
       "      <td>210.922040</td>\n",
       "    </tr>\n",
       "  </tbody>\n",
       "</table>\n",
       "</div>"
      ],
      "text/plain": [
       "   W0 (kg)        AR       TWR  W0/S (N/m^2)  Vmax(m/s) \n",
       "0     4800  8.053361  0.327047   2509.165317  205.777600\n",
       "1     7620  2.793673  0.379790   1525.555102  141.472100\n",
       "2     4854  8.500000  0.382210   2755.386114  217.095368\n",
       "3     4853  9.298655  0.367166   2134.884753  207.835376\n",
       "4     8300  9.350000  0.390000   2634.196053  226.355360\n",
       "5     6328  9.427474  0.322177   3516.830202  250.019784\n",
       "6     7394  7.957628  0.392638   3233.844851  240.759792\n",
       "7     4336  9.612438  0.350290   2116.226866  226.355360\n",
       "8     5700  4.427931  0.601793   1197.366167  210.922040"
      ]
     },
     "execution_count": 39,
     "metadata": {},
     "output_type": "execute_result"
    }
   ],
   "source": [
    "xdata = df.iloc[:,[2,4,5,7,9]]\n",
    "xdata"
   ]
  },
  {
   "cell_type": "code",
   "execution_count": 40,
   "metadata": {},
   "outputs": [
    {
     "data": {
      "text/plain": [
       "0    0.682292\n",
       "1    0.625328\n",
       "2    0.673053\n",
       "3    0.653410\n",
       "4    0.598193\n",
       "5    0.639223\n",
       "6    0.644171\n",
       "7    0.716559\n",
       "8    0.533333\n",
       "Name: We/W0, dtype: float64"
      ]
     },
     "execution_count": 40,
     "metadata": {},
     "output_type": "execute_result"
    }
   ],
   "source": [
    "ydata = df.iloc[:,3]\n",
    "ydata"
   ]
  },
  {
   "cell_type": "code",
   "execution_count": 41,
   "metadata": {},
   "outputs": [],
   "source": [
    "xdata = np.array(xdata).transpose()\n",
    "ydata = np.array(ydata)"
   ]
  },
  {
   "cell_type": "code",
   "execution_count": 67,
   "metadata": {},
   "outputs": [],
   "source": [
    "popt, pcov = curve_fit(func, xdata, ydata, bounds=((-3, 3)))"
   ]
  },
  {
   "cell_type": "code",
   "execution_count": 68,
   "metadata": {},
   "outputs": [
    {
     "data": {
      "text/plain": [
       "array([-1.12552612,  3.        , -0.06556813,  0.00409114, -0.08426596,\n",
       "        0.0272785 , -0.04872444])"
      ]
     },
     "execution_count": 68,
     "metadata": {},
     "output_type": "execute_result"
    }
   ],
   "source": [
    "# The coefficients a, b, c, d, e, f, and g are \n",
    "popt"
   ]
  },
  {
   "cell_type": "code",
   "execution_count": 69,
   "metadata": {},
   "outputs": [
    {
     "data": {
      "text/plain": [
       "array([[ 6.37255333e+03, -5.06681154e+03, -2.35515260e+02,\n",
       "         1.69177099e+01, -3.05914723e+02,  1.01863692e+02,\n",
       "        -1.85276766e+02],\n",
       "       [-5.06681154e+03,  4.03266189e+03,  1.87213300e+02,\n",
       "        -1.33818639e+01,  2.43387964e+02, -8.09256934e+01,\n",
       "         1.47040829e+02],\n",
       "       [-2.35515260e+02,  1.87213300e+02,  8.70663055e+00,\n",
       "        -6.24223858e-01,  1.13036779e+01, -3.76691739e+00,\n",
       "         6.84861341e+00],\n",
       "       [ 1.69177099e+01, -1.33818639e+01, -6.24223858e-01,\n",
       "         4.82525271e-02, -8.09186876e-01,  2.70425905e-01,\n",
       "        -4.98541620e-01],\n",
       "       [-3.05914723e+02,  2.43387964e+02,  1.13036779e+01,\n",
       "        -8.09186876e-01,  1.46988363e+01, -4.88325100e+00,\n",
       "         8.87977965e+00],\n",
       "       [ 1.01863692e+02, -8.09256934e+01, -3.76691739e+00,\n",
       "         2.70425905e-01, -4.88325100e+00,  1.63351063e+00,\n",
       "        -2.96841983e+00],\n",
       "       [-1.85276766e+02,  1.47040829e+02,  6.84861341e+00,\n",
       "        -4.98541620e-01,  8.87977965e+00, -2.96841983e+00,\n",
       "         5.41151901e+00]])"
      ]
     },
     "execution_count": 69,
     "metadata": {},
     "output_type": "execute_result"
    }
   ],
   "source": [
    "# The covariance was\n",
    "pcov"
   ]
  },
  {
   "cell_type": "code",
   "execution_count": null,
   "metadata": {},
   "outputs": [],
   "source": []
  }
 ],
 "metadata": {
  "kernelspec": {
   "display_name": "Python 3",
   "language": "python",
   "name": "python3"
  },
  "language_info": {
   "codemirror_mode": {
    "name": "ipython",
    "version": 3
   },
   "file_extension": ".py",
   "mimetype": "text/x-python",
   "name": "python",
   "nbconvert_exporter": "python",
   "pygments_lexer": "ipython3",
   "version": "3.8.5"
  }
 },
 "nbformat": 4,
 "nbformat_minor": 4
}
