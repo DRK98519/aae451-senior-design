{
 "cells": [
  {
   "cell_type": "markdown",
   "metadata": {},
   "source": [
    "# WER Curve Fit\n",
    "This is a function that fits the given data for aircrafts with similar designs to a WER equation\n",
    "The fit equation is in the form of \n",
    "\\begin{gather*}\n",
    "    \\frac{W_e}{W_o} = a + b (W_o)^c (AR)^d  (T_{sl}/W_o)^e  (W_o/S)^f  (V_{max})^g\n",
    "\\end{gather*}\n"
   ]
  },
  {
   "cell_type": "code",
   "execution_count": 1,
   "metadata": {},
   "outputs": [],
   "source": [
    "import numpy as np\n",
    "import matplotlib.pyplot as plt\n",
    "from scipy.optimize import curve_fit\n",
    "import pandas as pd"
   ]
  },
  {
   "cell_type": "code",
   "execution_count": 2,
   "metadata": {},
   "outputs": [],
   "source": [
    "# Function to fit the data \n",
    "def func(x, a, b, c, d, e, f, g):\n",
    "    return a + b*x[0]**c * x[1]**d * x[2]**e * x[3]**f * x[4]**g"
   ]
  },
  {
   "cell_type": "code",
   "execution_count": 5,
   "metadata": {},
   "outputs": [],
   "source": [
    "# Import the data with pandas\n",
    "df = pd.read_csv('initial_wer_data.csv')"
   ]
  },
  {
   "cell_type": "code",
   "execution_count": 6,
   "metadata": {},
   "outputs": [
    {
     "data": {
      "text/html": [
       "<div>\n",
       "<style scoped>\n",
       "    .dataframe tbody tr th:only-of-type {\n",
       "        vertical-align: middle;\n",
       "    }\n",
       "\n",
       "    .dataframe tbody tr th {\n",
       "        vertical-align: top;\n",
       "    }\n",
       "\n",
       "    .dataframe thead th {\n",
       "        text-align: right;\n",
       "    }\n",
       "</style>\n",
       "<table border=\"1\" class=\"dataframe\">\n",
       "  <thead>\n",
       "    <tr style=\"text-align: right;\">\n",
       "      <th></th>\n",
       "      <th>Aircraft</th>\n",
       "      <th>We (kg</th>\n",
       "      <th>W0 (kg)</th>\n",
       "      <th>We/W0</th>\n",
       "      <th>AR</th>\n",
       "      <th>TWR</th>\n",
       "      <th>S (m^2)</th>\n",
       "      <th>W0/S (N/m^2)</th>\n",
       "      <th>Vmax (knots)</th>\n",
       "      <th>Vmax(m/s)</th>\n",
       "    </tr>\n",
       "  </thead>\n",
       "  <tbody>\n",
       "    <tr>\n",
       "      <th>0</th>\n",
       "      <td>Embraer Phenom 100</td>\n",
       "      <td>3275</td>\n",
       "      <td>4800</td>\n",
       "      <td>0.682292</td>\n",
       "      <td>8.053361</td>\n",
       "      <td>0.327047</td>\n",
       "      <td>18.766400</td>\n",
       "      <td>255.776281</td>\n",
       "      <td>400</td>\n",
       "      <td>205.777600</td>\n",
       "    </tr>\n",
       "    <tr>\n",
       "      <th>1</th>\n",
       "      <td>AgustaWestland AW609</td>\n",
       "      <td>4765</td>\n",
       "      <td>7620</td>\n",
       "      <td>0.625328</td>\n",
       "      <td>2.793673</td>\n",
       "      <td>0.379790</td>\n",
       "      <td>49.000000</td>\n",
       "      <td>155.510204</td>\n",
       "      <td>275</td>\n",
       "      <td>141.472100</td>\n",
       "    </tr>\n",
       "    <tr>\n",
       "      <th>2</th>\n",
       "      <td>HondaJet HA420</td>\n",
       "      <td>3267</td>\n",
       "      <td>4854</td>\n",
       "      <td>0.673053</td>\n",
       "      <td>8.500000</td>\n",
       "      <td>0.382210</td>\n",
       "      <td>17.281694</td>\n",
       "      <td>280.875241</td>\n",
       "      <td>422</td>\n",
       "      <td>217.095368</td>\n",
       "    </tr>\n",
       "    <tr>\n",
       "      <th>3</th>\n",
       "      <td>Cessna M2 CJ1</td>\n",
       "      <td>3171</td>\n",
       "      <td>4853</td>\n",
       "      <td>0.653410</td>\n",
       "      <td>9.298655</td>\n",
       "      <td>0.367166</td>\n",
       "      <td>22.300000</td>\n",
       "      <td>217.623318</td>\n",
       "      <td>404</td>\n",
       "      <td>207.835376</td>\n",
       "    </tr>\n",
       "    <tr>\n",
       "      <th>4</th>\n",
       "      <td>Pilatus PC-24</td>\n",
       "      <td>4965</td>\n",
       "      <td>8300</td>\n",
       "      <td>0.598193</td>\n",
       "      <td>9.350000</td>\n",
       "      <td>0.390000</td>\n",
       "      <td>30.910000</td>\n",
       "      <td>268.521514</td>\n",
       "      <td>440</td>\n",
       "      <td>226.355360</td>\n",
       "    </tr>\n",
       "    <tr>\n",
       "      <th>5</th>\n",
       "      <td>Sino Swearingen SJ30</td>\n",
       "      <td>4045</td>\n",
       "      <td>6328</td>\n",
       "      <td>0.639223</td>\n",
       "      <td>9.427474</td>\n",
       "      <td>0.322177</td>\n",
       "      <td>17.651600</td>\n",
       "      <td>358.494414</td>\n",
       "      <td>486</td>\n",
       "      <td>250.019784</td>\n",
       "    </tr>\n",
       "    <tr>\n",
       "      <th>6</th>\n",
       "      <td>Hawker 400XPR</td>\n",
       "      <td>4763</td>\n",
       "      <td>7394</td>\n",
       "      <td>0.644171</td>\n",
       "      <td>7.957628</td>\n",
       "      <td>0.392638</td>\n",
       "      <td>22.430000</td>\n",
       "      <td>329.647793</td>\n",
       "      <td>468</td>\n",
       "      <td>240.759792</td>\n",
       "    </tr>\n",
       "    <tr>\n",
       "      <th>7</th>\n",
       "      <td>Spectrum S-40 Freedom</td>\n",
       "      <td>3107</td>\n",
       "      <td>4336</td>\n",
       "      <td>0.716559</td>\n",
       "      <td>9.612438</td>\n",
       "      <td>0.350290</td>\n",
       "      <td>20.100000</td>\n",
       "      <td>215.721393</td>\n",
       "      <td>440</td>\n",
       "      <td>226.355360</td>\n",
       "    </tr>\n",
       "    <tr>\n",
       "      <th>8</th>\n",
       "      <td>Pegasus VBJ</td>\n",
       "      <td>3040</td>\n",
       "      <td>5700</td>\n",
       "      <td>0.533333</td>\n",
       "      <td>4.427931</td>\n",
       "      <td>0.601793</td>\n",
       "      <td>46.700000</td>\n",
       "      <td>122.055675</td>\n",
       "      <td>410</td>\n",
       "      <td>210.922040</td>\n",
       "    </tr>\n",
       "  </tbody>\n",
       "</table>\n",
       "</div>"
      ],
      "text/plain": [
       "                Aircraft  We (kg  W0 (kg)     We/W0        AR       TWR  \\\n",
       "0     Embraer Phenom 100    3275     4800  0.682292  8.053361  0.327047   \n",
       "1   AgustaWestland AW609    4765     7620  0.625328  2.793673  0.379790   \n",
       "2         HondaJet HA420    3267     4854  0.673053  8.500000  0.382210   \n",
       "3          Cessna M2 CJ1    3171     4853  0.653410  9.298655  0.367166   \n",
       "4          Pilatus PC-24    4965     8300  0.598193  9.350000  0.390000   \n",
       "5   Sino Swearingen SJ30    4045     6328  0.639223  9.427474  0.322177   \n",
       "6          Hawker 400XPR    4763     7394  0.644171  7.957628  0.392638   \n",
       "7  Spectrum S-40 Freedom    3107     4336  0.716559  9.612438  0.350290   \n",
       "8            Pegasus VBJ    3040     5700  0.533333  4.427931  0.601793   \n",
       "\n",
       "     S (m^2)  W0/S (N/m^2)  Vmax (knots)  Vmax(m/s)   \n",
       "0  18.766400    255.776281           400  205.777600  \n",
       "1  49.000000    155.510204           275  141.472100  \n",
       "2  17.281694    280.875241           422  217.095368  \n",
       "3  22.300000    217.623318           404  207.835376  \n",
       "4  30.910000    268.521514           440  226.355360  \n",
       "5  17.651600    358.494414           486  250.019784  \n",
       "6  22.430000    329.647793           468  240.759792  \n",
       "7  20.100000    215.721393           440  226.355360  \n",
       "8  46.700000    122.055675           410  210.922040  "
      ]
     },
     "execution_count": 6,
     "metadata": {},
     "output_type": "execute_result"
    }
   ],
   "source": [
    "df"
   ]
  },
  {
   "cell_type": "code",
   "execution_count": 7,
   "metadata": {},
   "outputs": [
    {
     "data": {
      "text/html": [
       "<div>\n",
       "<style scoped>\n",
       "    .dataframe tbody tr th:only-of-type {\n",
       "        vertical-align: middle;\n",
       "    }\n",
       "\n",
       "    .dataframe tbody tr th {\n",
       "        vertical-align: top;\n",
       "    }\n",
       "\n",
       "    .dataframe thead th {\n",
       "        text-align: right;\n",
       "    }\n",
       "</style>\n",
       "<table border=\"1\" class=\"dataframe\">\n",
       "  <thead>\n",
       "    <tr style=\"text-align: right;\">\n",
       "      <th></th>\n",
       "      <th>W0 (kg)</th>\n",
       "      <th>AR</th>\n",
       "      <th>TWR</th>\n",
       "      <th>W0/S (N/m^2)</th>\n",
       "      <th>Vmax(m/s)</th>\n",
       "    </tr>\n",
       "  </thead>\n",
       "  <tbody>\n",
       "    <tr>\n",
       "      <th>0</th>\n",
       "      <td>4800</td>\n",
       "      <td>8.053361</td>\n",
       "      <td>0.327047</td>\n",
       "      <td>255.776281</td>\n",
       "      <td>205.777600</td>\n",
       "    </tr>\n",
       "    <tr>\n",
       "      <th>1</th>\n",
       "      <td>7620</td>\n",
       "      <td>2.793673</td>\n",
       "      <td>0.379790</td>\n",
       "      <td>155.510204</td>\n",
       "      <td>141.472100</td>\n",
       "    </tr>\n",
       "    <tr>\n",
       "      <th>2</th>\n",
       "      <td>4854</td>\n",
       "      <td>8.500000</td>\n",
       "      <td>0.382210</td>\n",
       "      <td>280.875241</td>\n",
       "      <td>217.095368</td>\n",
       "    </tr>\n",
       "    <tr>\n",
       "      <th>3</th>\n",
       "      <td>4853</td>\n",
       "      <td>9.298655</td>\n",
       "      <td>0.367166</td>\n",
       "      <td>217.623318</td>\n",
       "      <td>207.835376</td>\n",
       "    </tr>\n",
       "    <tr>\n",
       "      <th>4</th>\n",
       "      <td>8300</td>\n",
       "      <td>9.350000</td>\n",
       "      <td>0.390000</td>\n",
       "      <td>268.521514</td>\n",
       "      <td>226.355360</td>\n",
       "    </tr>\n",
       "    <tr>\n",
       "      <th>5</th>\n",
       "      <td>6328</td>\n",
       "      <td>9.427474</td>\n",
       "      <td>0.322177</td>\n",
       "      <td>358.494414</td>\n",
       "      <td>250.019784</td>\n",
       "    </tr>\n",
       "    <tr>\n",
       "      <th>6</th>\n",
       "      <td>7394</td>\n",
       "      <td>7.957628</td>\n",
       "      <td>0.392638</td>\n",
       "      <td>329.647793</td>\n",
       "      <td>240.759792</td>\n",
       "    </tr>\n",
       "    <tr>\n",
       "      <th>7</th>\n",
       "      <td>4336</td>\n",
       "      <td>9.612438</td>\n",
       "      <td>0.350290</td>\n",
       "      <td>215.721393</td>\n",
       "      <td>226.355360</td>\n",
       "    </tr>\n",
       "    <tr>\n",
       "      <th>8</th>\n",
       "      <td>5700</td>\n",
       "      <td>4.427931</td>\n",
       "      <td>0.601793</td>\n",
       "      <td>122.055675</td>\n",
       "      <td>210.922040</td>\n",
       "    </tr>\n",
       "  </tbody>\n",
       "</table>\n",
       "</div>"
      ],
      "text/plain": [
       "   W0 (kg)        AR       TWR  W0/S (N/m^2)  Vmax(m/s) \n",
       "0     4800  8.053361  0.327047    255.776281  205.777600\n",
       "1     7620  2.793673  0.379790    155.510204  141.472100\n",
       "2     4854  8.500000  0.382210    280.875241  217.095368\n",
       "3     4853  9.298655  0.367166    217.623318  207.835376\n",
       "4     8300  9.350000  0.390000    268.521514  226.355360\n",
       "5     6328  9.427474  0.322177    358.494414  250.019784\n",
       "6     7394  7.957628  0.392638    329.647793  240.759792\n",
       "7     4336  9.612438  0.350290    215.721393  226.355360\n",
       "8     5700  4.427931  0.601793    122.055675  210.922040"
      ]
     },
     "execution_count": 7,
     "metadata": {},
     "output_type": "execute_result"
    }
   ],
   "source": [
    "xdata = df.iloc[:,[2,4,5,7,9]]\n",
    "xdata"
   ]
  },
  {
   "cell_type": "code",
   "execution_count": 8,
   "metadata": {},
   "outputs": [
    {
     "data": {
      "text/plain": [
       "0    0.682292\n",
       "1    0.625328\n",
       "2    0.673053\n",
       "3    0.653410\n",
       "4    0.598193\n",
       "5    0.639223\n",
       "6    0.644171\n",
       "7    0.716559\n",
       "8    0.533333\n",
       "Name: We/W0, dtype: float64"
      ]
     },
     "execution_count": 8,
     "metadata": {},
     "output_type": "execute_result"
    }
   ],
   "source": [
    "ydata = df.iloc[:,3]\n",
    "ydata"
   ]
  },
  {
   "cell_type": "code",
   "execution_count": 9,
   "metadata": {},
   "outputs": [],
   "source": [
    "xdata = np.array(xdata).transpose()\n",
    "ydata = np.array(ydata)"
   ]
  },
  {
   "cell_type": "code",
   "execution_count": 10,
   "metadata": {},
   "outputs": [],
   "source": [
    "popt, pcov = curve_fit(func, xdata, ydata, bounds=((-3, 3)))"
   ]
  },
  {
   "cell_type": "code",
   "execution_count": 11,
   "metadata": {},
   "outputs": [
    {
     "data": {
      "text/plain": [
       "array([-0.93406157,  3.        , -0.07269635,  0.00401527, -0.09722277,\n",
       "        0.0290933 , -0.05112156])"
      ]
     },
     "execution_count": 11,
     "metadata": {},
     "output_type": "execute_result"
    }
   ],
   "source": [
    "# The coefficients a, b, c, d, e, f, and g are \n",
    "popt"
   ]
  },
  {
   "cell_type": "code",
   "execution_count": 12,
   "metadata": {},
   "outputs": [
    {
     "data": {
      "text/plain": [
       "array([[ 4.04402109e+03, -2.69424273e+03, -1.85762444e+02,\n",
       "         1.22992720e+01, -2.51237659e+02,  7.78601168e+01,\n",
       "        -1.39973330e+02],\n",
       "       [-2.69424273e+03,  1.80151642e+03,  1.23684509e+02,\n",
       "        -8.10691273e+00,  1.67634784e+02, -5.17444222e+01,\n",
       "         9.28527583e+01],\n",
       "       [-1.85762444e+02,  1.23684509e+02,  8.53619170e+00,\n",
       "        -5.63675090e-01,  1.15378015e+01, -3.57936394e+00,\n",
       "         6.43117638e+00],\n",
       "       [ 1.22992720e+01, -8.10691273e+00, -5.63675090e-01,\n",
       "         4.16237006e-02, -7.60396716e-01,  2.36794767e-01,\n",
       "        -4.34120756e-01],\n",
       "       [-2.51237659e+02,  1.67634784e+02,  1.15378015e+01,\n",
       "        -7.60396716e-01,  1.56251507e+01, -4.82866910e+00,\n",
       "         8.67780945e+00],\n",
       "       [ 7.78601168e+01, -5.17444222e+01, -3.57936394e+00,\n",
       "         2.36794767e-01, -4.82866910e+00,  1.50565478e+00,\n",
       "        -2.70349532e+00],\n",
       "       [-1.39973330e+02,  9.28527583e+01,  6.43117638e+00,\n",
       "        -4.34120756e-01,  8.67780945e+00, -2.70349532e+00,\n",
       "         4.87597895e+00]])"
      ]
     },
     "execution_count": 12,
     "metadata": {},
     "output_type": "execute_result"
    }
   ],
   "source": [
    "# The covariance was\n",
    "pcov"
   ]
  },
  {
   "cell_type": "code",
   "execution_count": null,
   "metadata": {},
   "outputs": [],
   "source": []
  }
 ],
 "metadata": {
  "kernelspec": {
   "display_name": "Python 3",
   "language": "python",
   "name": "python3"
  },
  "language_info": {
   "codemirror_mode": {
    "name": "ipython",
    "version": 3
   },
   "file_extension": ".py",
   "mimetype": "text/x-python",
   "name": "python",
   "nbconvert_exporter": "python",
   "pygments_lexer": "ipython3",
   "version": "3.8.5"
  }
 },
 "nbformat": 4,
 "nbformat_minor": 4
}
