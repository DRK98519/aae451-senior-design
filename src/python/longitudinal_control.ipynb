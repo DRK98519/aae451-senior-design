{
 "cells": [
  {
   "cell_type": "markdown",
   "metadata": {},
   "source": [
    "# Longitudinal Dynamics Control Notebook"
   ]
  },
  {
   "cell_type": "markdown",
   "metadata": {},
   "source": [
    "### Equations"
   ]
  },
  {
   "cell_type": "markdown",
   "metadata": {},
   "source": [
    "\\begin{align*}\n",
    "    \\dot{\\alpha} &= \\mu\\Omega\\sigma\\left(-(C_L+C_D)\\alpha+\\frac{1}{\\mu-C_L}q-(C_W\\sin{\\gamma})\\theta+C_L \\right)\\\\\n",
    "    \\dot{q} &= \\frac{\\mu\\Omega}{2i_{yy}}\\Bigl\\{  \\left[C_M-\\eta(C_L+C_D) \\right]\\alpha + \\left[ C_M +\\sigma C_M(1-\\mu C_L) \\right]q + \\eta C_W\\delta \\sin{\\gamma}  \\Bigr\\}\\\\\n",
    "    \\dot{\\theta} &= \\Omega q\n",
    "\\end{align*}\n",
    "\n",
    "where the notations are \n",
    "\n",
    "\\begin{align*}\n",
    "    \\alpha &:= \\text{angle of attack}\\\\\n",
    "    q &:= \\text{pitch rate}\\\\\n",
    "    \\theta &:= \\text{pitch angle}\\\\\n",
    "    \\delta &:= \\text{elevator deflection angle}\\\\\n",
    "    \\mu &:= \\rho S\\bar{c}/4m\\\\\n",
    "    \\rho &:= \\text{air density}\\\\\n",
    "    S &:= \\text{platform area of the wing}\\\\\n",
    "    \\bar{c} &:= \\text{average chord length}\\\\\n",
    "    m &:= \\text{mass of the aircraft}\\\\\n",
    "    \\Omega &:= 2U/\\bar{c}\\\\\n",
    "    U &:= \\text{equilibrium flight speed}\\\\\n",
    "    C_T &:= \\text{coefficient of thrust}\\\\\n",
    "    C_D &:= \\text{coefficient of drag}\\\\\n",
    "    C_L &:= \\text{coefficient of lift}\\\\\n",
    "    C_W &:= \\text{coefficient of weight}\\\\\n",
    "    C_M &:= \\text{coefficient of pitch moment}\\\\\n",
    "    \\gamma &:= \\text{flight path angle} \\\\\n",
    "    \\sigma &:= 1 / (1+\\mu C_L) = const. \\\\\n",
    "    i_{yy} &:= \\text{normalized moment of inertia} \\\\\n",
    "    \\eta &:= \\mu \\sigma C_M = const.\n",
    "\\end{align*}"
   ]
  },
  {
   "cell_type": "code",
   "execution_count": null,
   "metadata": {},
   "outputs": [],
   "source": []
  }
 ],
 "metadata": {
  "kernelspec": {
   "display_name": "Python 3",
   "language": "python",
   "name": "python3"
  },
  "language_info": {
   "codemirror_mode": {
    "name": "ipython",
    "version": 3
   },
   "file_extension": ".py",
   "mimetype": "text/x-python",
   "name": "python",
   "nbconvert_exporter": "python",
   "pygments_lexer": "ipython3",
   "version": "3.8.5"
  }
 },
 "nbformat": 4,
 "nbformat_minor": 4
}
